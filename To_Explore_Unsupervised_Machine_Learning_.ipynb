{
  "nbformat": 4,
  "nbformat_minor": 0,
  "metadata": {
    "colab": {
      "name": "To Explore Unsupervised Machine Learning-.ipynb",
      "provenance": [],
      "collapsed_sections": []
    },
    "kernelspec": {
      "name": "python3",
      "display_name": "Python 3"
    }
  },
  "cells": [
    {
      "cell_type": "code",
      "metadata": {
        "id": "5AJQVZNHf921",
        "outputId": "f072f542-3023-44a6-89b6-afabbb5ed8f3",
        "colab": {
          "base_uri": "https://localhost:8080/",
          "height": 134
        }
      },
      "source": [
        "git remote add origin https://github.com/nirajs2403/h.git\n",
        "git branch -M main\n",
        "git push -u origin main"
      ],
      "execution_count": null,
      "outputs": [
        {
          "output_type": "error",
          "ename": "SyntaxError",
          "evalue": "ignored",
          "traceback": [
            "\u001b[0;36m  File \u001b[0;32m\"<ipython-input-1-c8b955191eba>\"\u001b[0;36m, line \u001b[0;32m1\u001b[0m\n\u001b[0;31m    git remote add origin https://github.com/nirajs2403/h.git\u001b[0m\n\u001b[0m             ^\u001b[0m\n\u001b[0;31mSyntaxError\u001b[0m\u001b[0;31m:\u001b[0m invalid syntax\n"
          ]
        }
      ]
    },
    {
      "cell_type": "code",
      "metadata": {
        "id": "8IVtqBSfPGr2"
      },
      "source": [
        "# Importing the Required libraries\n",
        "\n",
        "import numpy as np\n",
        "import matplotlib.pyplot as plt\n",
        "import seaborn as sns\n",
        "import pandas as pd\n",
        "\n",
        "from sklearn import datasets"
      ],
      "execution_count": null,
      "outputs": []
    },
    {
      "cell_type": "code",
      "metadata": {
        "id": "LqSaNXaXN_Di"
      },
      "source": [
        "# Importing dataset\n",
        "iris = sns.load_dataset('iris')\n",
        "iris"
      ],
      "execution_count": null,
      "outputs": []
    },
    {
      "cell_type": "code",
      "metadata": {
        "id": "5hEbtZEtPWlO"
      },
      "source": [
        "# Plotting the pair plot\n",
        "sns.pairplot(iris, hue = 'species')"
      ],
      "execution_count": null,
      "outputs": []
    },
    {
      "cell_type": "code",
      "metadata": {
        "id": "HuCwOudpQd3J"
      },
      "source": [
        "# Defining 'X'\n",
        "\n",
        "X = iris.iloc[:, [0, 1, 2, 3]].values"
      ],
      "execution_count": null,
      "outputs": []
    },
    {
      "cell_type": "code",
      "metadata": {
        "id": "9OMbWPDGQmBq"
      },
      "source": [
        "# Finding the optimum number of clusters for k-means classification\n",
        "from sklearn.cluster import KMeans\n",
        "wcss = [] \n",
        "for i in range(1, 11):\n",
        "    kmeans = KMeans(n_clusters = i, init = 'k-means++', \n",
        "                    max_iter = 300, n_init = 10, random_state = 0)\n",
        "    kmeans.fit(X)\n",
        "    wcss.append(kmeans.inertia_)\n",
        "    \n",
        "# Plotting the results onto a line graph, \n",
        "# Allowing us to observe 'The elbow'\n",
        "plt.plot(range(1, 11), wcss)\n",
        "plt.title('The elbow method')\n",
        "plt.xlabel('Number of clusters')\n",
        "plt.ylabel('WCSS') # Within cluster sum of squares\n",
        "plt.show()\n",
        "sns.set(rc={'figure.figsize':(5,5)})"
      ],
      "execution_count": null,
      "outputs": []
    },
    {
      "cell_type": "code",
      "metadata": {
        "id": "gtUTSpthQ1aZ"
      },
      "source": [
        "# Applying kmeans to the dataset / Creating the kmeans classifier\n",
        "kmeans = KMeans(n_clusters = 3, init = 'k-means++',\n",
        "                max_iter = 300, n_init = 10, random_state = 0)\n",
        "y_kmeans = kmeans.fit_predict(X)\n",
        "y_kmeans"
      ],
      "execution_count": null,
      "outputs": []
    },
    {
      "cell_type": "code",
      "metadata": {
        "id": "u_JXVP9nQ6Nw"
      },
      "source": [
        "# Visualising the clusters - On the first two columns\n",
        "plt.scatter(X[y_kmeans == 0, 0], X[y_kmeans == 0, 1], \n",
        "            s = 100, c = 'blue', label = 'Iris-setosa')\n",
        "plt.scatter(X[y_kmeans == 1, 0], X[y_kmeans == 1, 1], \n",
        "            s = 100, c = 'orange', label = 'Iris-versicolour')\n",
        "plt.scatter(X[y_kmeans == 2, 0], X[y_kmeans == 2, 1],\n",
        "            s = 100, c = 'green', label = 'Iris-virginica')\n",
        "# Plotting the centroids of the clusters\n",
        "plt.scatter(kmeans.cluster_centers_[:, 0], kmeans.cluster_centers_[:,1], \n",
        "            s = 100, c = 'red', label = 'Centroids')\n",
        "plt.legend()\n",
        "\n",
        "sns.set(rc={'figure.figsize':(10,8)})"
      ],
      "execution_count": null,
      "outputs": []
    }
  ]
}